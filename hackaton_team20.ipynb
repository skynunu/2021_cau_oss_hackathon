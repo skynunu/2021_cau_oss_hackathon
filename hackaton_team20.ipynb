{
  "nbformat": 4,
  "nbformat_minor": 0,
  "metadata": {
    "colab": {
      "name": "Untitled1.ipynb",
      "provenance": [],
      "authorship_tag": "ABX9TyP9CpPC1UEYvQwKbf6dWxOT",
      "include_colab_link": true
    },
    "kernelspec": {
      "name": "python3",
      "display_name": "Python 3"
    },
    "language_info": {
      "name": "python"
    }
  },
  "cells": [
    {
      "cell_type": "markdown",
      "metadata": {
        "id": "view-in-github",
        "colab_type": "text"
      },
      "source": [
        "<a href=\"https://colab.research.google.com/github/skynunu/2021_cau_oss_hackathon/blob/main/hackaton_team20.ipynb\" target=\"_parent\"><img src=\"https://colab.research.google.com/assets/colab-badge.svg\" alt=\"Open In Colab\"/></a>"
      ]
    },
    {
      "cell_type": "code",
      "metadata": {
        "id": "75-9wzaDXzuH"
      },
      "source": [
        ""
      ],
      "execution_count": null,
      "outputs": []
    },
    {
      "cell_type": "markdown",
      "metadata": {
        "id": "fFGJq2r2X01I"
      },
      "source": [
        "0. 해커톤 진행 주의사항\n",
        "1) 개발 관련 주의사항\n",
        "\n",
        "[1. 초기 환경 설정]은 절대 수정하지 말 것\n",
        "모든 구현은 [2. 데이터 전처리] 및 [3.모델 생성]에서만 진행\n",
        "[4. 모델 저장]에서 team_name 변수 변경 (예.team_name = 'team01')\n",
        "트레이닝 중간에 checkpoint를 활용하여 모델을 저장한 경우에도 파일 이름 양식 통일 필수\n",
        "Colab 사용중 실수로 데이터 손실이 발생할 수도 있으니 중간 결과값을 github에 업로드\n",
        "\"런타임->모든 런타임 재설정\"은 절대 누르지 말 것 (저장한 모델 데이터가 모두 삭제됨)\n",
        "효율적인 구현 및 테스팅을 위해 GPU 가속 기능 활성화\n",
        "\"런타임 -> 런타임 유형변경 -> 하드웨어 가속기 -> GPU 설정\"\n",
        "주석을 최대한 자세히 작성\n",
        "Keras API 관련하여 Keras Documentation 참조\n",
        "2) 제출 관련 주의사항\n",
        "\n",
        "제출물\n",
        "소스코드 (hackathon_teamXX.ipynb)\n",
        "컴파일된 모델 파일 (model_entire_teamXX.h5)\n",
        "모델 발표 자료\n",
        "제출 기한: 오후 6시 (단, 발표자료는 12시)\n",
        "제출 방법: GitHub README 참조\n",
        "3) 평가 관련 주의사항\n",
        "\n",
        "모델 성능 = 두개의 테스트 데이터 셋 분류 정확도에 대한 weighted sum\n",
        "model.evaluate(x_test1, y_test1) + model.evaluate(x_test2, y_test2) * 2\n",
        "제출된 모델들의 테스트 데이터 셋 분류 정확도를 기준으로 수상작 결정\n",
        "수상 후보들에 대해서는 소스코드를 기반으로 모델 재검증\n",
        "4) 수상 실격 사유\n",
        "\n",
        "유사한 소스코드 or 알고리즘이 적발될 경우\n",
        "소스코드와 제출된 모델이 상이한 경우\n",
        "개발 관련 주의사항을 지키지 않은 경우\n",
        "예: [초기 환경 설정]을 수정한 경우\n",
        "데이터 셋을 변조한 경우\n",
        "예: 테스트 데이터 셋을 트레이닝 데이터 셋에 포함하여 모델 생성\n",
        "단, tensorflow.data 및 dataset API를 사용하기 위해 변경하는 것은 허용. 이 경우, model evaluation 파트도 해당 API를 쓰도록 변경\n",
        "주석이 소스코드와 맞지 않거나 미비할 경우"
      ]
    },
    {
      "cell_type": "code",
      "metadata": {
        "id": "pOE484BJX2VV"
      },
      "source": [
        ""
      ],
      "execution_count": null,
      "outputs": []
    }
  ]
}